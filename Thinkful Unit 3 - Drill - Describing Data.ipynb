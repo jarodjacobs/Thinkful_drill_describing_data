{
 "cells": [
  {
   "cell_type": "markdown",
   "metadata": {},
   "source": [
    "Thinkful: Unit 3 - Drill - Describing Data"
   ]
  },
  {
   "cell_type": "markdown",
   "metadata": {},
   "source": [
    "\n",
    "    Greg was 14, Marcia was 12, Peter was 11, Jan was 10, Bobby was 8, and Cindy was 6 when they started playing the Brady kids on The Brady Bunch. Cousin Oliver was 8 years old when he joined the show. What are the mean, median, and mode of the kids' ages when they first appeared on the show? What are the variance, standard deviation, and standard error?\n",
    "    Using these estimates, if you had to choose only one estimate of central tendency and one estimate of variance to describe the data, which would you pick and why?\n",
    "    Next, Cindy has a birthday. Update your estimates- what changed, and what didn't?\n",
    "    Nobody likes Cousin Oliver. Maybe the network should have used an even younger actor. Replace Cousin Oliver with 1-year-old Jessica, then recalculate again. Does this change your choice of central tendency or variance estimation methods?"
   ]
  },
  {
   "cell_type": "code",
   "execution_count": 21,
   "metadata": {
    "collapsed": true
   },
   "outputs": [],
   "source": [
    "import pandas as pd\n",
    "import numpy as np\n",
    "import statistics"
   ]
  },
  {
   "cell_type": "code",
   "execution_count": 17,
   "metadata": {
    "collapsed": false
   },
   "outputs": [
    {
     "data": {
      "text/plain": [
       "0    14\n",
       "1    12\n",
       "2    11\n",
       "3    10\n",
       "4     8\n",
       "5     6\n",
       "6     8\n",
       "Name: age, dtype: int64"
      ]
     },
     "execution_count": 17,
     "metadata": {},
     "output_type": "execute_result"
    }
   ],
   "source": [
    "df = pd.DataFrame()\n",
    "df['name'] = ['Greg','Marcia','Peter','Jan','Bobby','Cindy','Oliver']\n",
    "df['age'] = [14, 12, 11, 10, 8, 6, 8]\n",
    "df['age']"
   ]
  },
  {
   "cell_type": "code",
   "execution_count": 30,
   "metadata": {
    "collapsed": false
   },
   "outputs": [
    {
     "name": "stdout",
     "output_type": "stream",
     "text": [
      "The mean age of the Braddy Bunch is 9.857142857142858\n",
      "The median age of the Braddy Bunch is 10.0\n",
      "The mode age of the Braddy Bunch is 8\n",
      "The variance for ages of the Braddy Bunch is 6.408163265306122\n",
      "The standard deviation of the ages of the Braddy Bunch is 2.531435020952764\n",
      "The standard error for the ages of the Braddy Bunch is 1.0334540197243192\n"
     ]
    }
   ],
   "source": [
    "print('The mean age of the Braddy Bunch is', (np.mean(df['age'])))\n",
    "print('The median age of the Braddy Bunch is', (np.median(df['age'])))\n",
    "print('The mode age of the Braddy Bunch is', (statistics.mode(df['age'])))\n",
    "print('The variance for ages of the Braddy Bunch is', (np.var(df.age)))\n",
    "print('The standard deviation of the ages of the Braddy Bunch is', (np.std(df['age'])))\n",
    "print('The standard error for the ages of the Braddy Bunch is', (np.std(df['age'], ddof=1) / np.sqrt(len(df['age']))))\n"
   ]
  },
  {
   "cell_type": "markdown",
   "metadata": {},
   "source": [
    "I would choose the mean and standard deviation to describe these data because the mean gives us the most precise way of thinking about how old these group of children were, while the standard deviation helps show how close in age they were."
   ]
  },
  {
   "cell_type": "markdown",
   "metadata": {},
   "source": [
    "Cindy has a birthday"
   ]
  },
  {
   "cell_type": "code",
   "execution_count": 35,
   "metadata": {
    "collapsed": true
   },
   "outputs": [],
   "source": [
    "df.loc[df.name == 'Cindy', 'age'] = 7"
   ]
  },
  {
   "cell_type": "code",
   "execution_count": 37,
   "metadata": {
    "collapsed": false
   },
   "outputs": [
    {
     "name": "stdout",
     "output_type": "stream",
     "text": [
      "The mean age of the Braddy Bunch is 10.0\n",
      "The median age of the Braddy Bunch is 10.0\n",
      "The mode age of the Braddy Bunch is 8\n",
      "The variance for ages of the Braddy Bunch is 5.428571428571429\n",
      "The standard deviation of the ages of the Braddy Bunch is 2.32992949004287\n",
      "The standard error for the ages of the Braddy Bunch is 0.9511897312113418\n"
     ]
    }
   ],
   "source": [
    "print('The mean age of the Braddy Bunch is', (np.mean(df['age'])))\n",
    "print('The median age of the Braddy Bunch is', (np.median(df['age'])))\n",
    "print('The mode age of the Braddy Bunch is', (statistics.mode(df['age'])))\n",
    "print('The variance for ages of the Braddy Bunch is', (np.var(df.age)))\n",
    "print('The standard deviation of the ages of the Braddy Bunch is', (np.std(df['age'])))\n",
    "print('The standard error for the ages of the Braddy Bunch is', (np.std(df['age'], ddof=1) / np.sqrt(len(df['age']))))"
   ]
  },
  {
   "cell_type": "markdown",
   "metadata": {},
   "source": [
    "The median change as well as all of the measures of variance"
   ]
  },
  {
   "cell_type": "markdown",
   "metadata": {},
   "source": [
    "Replace Oliver with 1-year-old Jessica"
   ]
  },
  {
   "cell_type": "code",
   "execution_count": 39,
   "metadata": {
    "collapsed": false
   },
   "outputs": [],
   "source": [
    "df.loc[df.name == 'Oliver', ['name', 'age']] = 'Jessica', 1"
   ]
  },
  {
   "cell_type": "code",
   "execution_count": 40,
   "metadata": {
    "collapsed": false
   },
   "outputs": [
    {
     "data": {
      "text/html": [
       "<div>\n",
       "<table border=\"1\" class=\"dataframe\">\n",
       "  <thead>\n",
       "    <tr style=\"text-align: right;\">\n",
       "      <th></th>\n",
       "      <th>name</th>\n",
       "      <th>age</th>\n",
       "    </tr>\n",
       "  </thead>\n",
       "  <tbody>\n",
       "    <tr>\n",
       "      <th>0</th>\n",
       "      <td>Greg</td>\n",
       "      <td>14</td>\n",
       "    </tr>\n",
       "    <tr>\n",
       "      <th>1</th>\n",
       "      <td>Marcia</td>\n",
       "      <td>12</td>\n",
       "    </tr>\n",
       "    <tr>\n",
       "      <th>2</th>\n",
       "      <td>Peter</td>\n",
       "      <td>11</td>\n",
       "    </tr>\n",
       "    <tr>\n",
       "      <th>3</th>\n",
       "      <td>Jan</td>\n",
       "      <td>10</td>\n",
       "    </tr>\n",
       "    <tr>\n",
       "      <th>4</th>\n",
       "      <td>Bobby</td>\n",
       "      <td>8</td>\n",
       "    </tr>\n",
       "    <tr>\n",
       "      <th>5</th>\n",
       "      <td>Cindy</td>\n",
       "      <td>7</td>\n",
       "    </tr>\n",
       "    <tr>\n",
       "      <th>6</th>\n",
       "      <td>Jessica</td>\n",
       "      <td>1</td>\n",
       "    </tr>\n",
       "  </tbody>\n",
       "</table>\n",
       "</div>"
      ],
      "text/plain": [
       "      name  age\n",
       "0     Greg   14\n",
       "1   Marcia   12\n",
       "2    Peter   11\n",
       "3      Jan   10\n",
       "4    Bobby    8\n",
       "5    Cindy    7\n",
       "6  Jessica    1"
      ]
     },
     "execution_count": 40,
     "metadata": {},
     "output_type": "execute_result"
    }
   ],
   "source": [
    "df"
   ]
  },
  {
   "cell_type": "code",
   "execution_count": 42,
   "metadata": {
    "collapsed": false
   },
   "outputs": [
    {
     "name": "stdout",
     "output_type": "stream",
     "text": [
      "The mean age of the Braddy Bunch is 9.0\n",
      "The median age of the Braddy Bunch is 10.0\n",
      "The mode age of the Braddy Bunch is , all ages are the mode\n",
      "The variance for ages of the Braddy Bunch is 15.428571428571429\n",
      "The standard deviation of the ages of the Braddy Bunch is 3.927922024247863\n",
      "The standard error for the ages of the Braddy Bunch is 1.6035674514745462\n"
     ]
    }
   ],
   "source": [
    "print('The mean age of the Braddy Bunch is', (np.mean(df['age'])))\n",
    "print('The median age of the Braddy Bunch is', (np.median(df['age'])))\n",
    "print('The mode age of the Braddy Bunch is', ', there is no mode')\n",
    "print('The variance for ages of the Braddy Bunch is', (np.var(df.age)))\n",
    "print('The standard deviation of the ages of the Braddy Bunch is', (np.std(df['age'])))\n",
    "print('The standard error for the ages of the Braddy Bunch is', (np.std(df['age'], ddof=1) / np.sqrt(len(df['age']))))"
   ]
  },
  {
   "cell_type": "markdown",
   "metadata": {},
   "source": [
    "I still like the mean and the standard deviation as descriptors of these data."
   ]
  },
  {
   "cell_type": "markdown",
   "metadata": {},
   "source": [
    " On the 50th anniversary of The Brady Bunch, four different magazines asked their readers whether they were fans of the show. The answers were: TV Guide 20% fans Entertainment Weekly 23% fans Pop Culture Today 17% fans SciPhi Phanatic 5% fans\n",
    "\n",
    "    Based on these numbers, what percentage of adult Americans would you estimate were Brady Bunch fans on the 50th anniversary of the show?"
   ]
  },
  {
   "cell_type": "code",
   "execution_count": 43,
   "metadata": {
    "collapsed": false
   },
   "outputs": [
    {
     "data": {
      "text/html": [
       "<div>\n",
       "<table border=\"1\" class=\"dataframe\">\n",
       "  <thead>\n",
       "    <tr style=\"text-align: right;\">\n",
       "      <th></th>\n",
       "      <th>magazine</th>\n",
       "      <th>Percent_Fans</th>\n",
       "    </tr>\n",
       "  </thead>\n",
       "  <tbody>\n",
       "    <tr>\n",
       "      <th>0</th>\n",
       "      <td>TV_Guide</td>\n",
       "      <td>0.20</td>\n",
       "    </tr>\n",
       "    <tr>\n",
       "      <th>1</th>\n",
       "      <td>Entertainment_Weekly</td>\n",
       "      <td>0.23</td>\n",
       "    </tr>\n",
       "    <tr>\n",
       "      <th>2</th>\n",
       "      <td>Pop_Culture_Today</td>\n",
       "      <td>0.17</td>\n",
       "    </tr>\n",
       "    <tr>\n",
       "      <th>3</th>\n",
       "      <td>SciPhi_Phanatic</td>\n",
       "      <td>0.05</td>\n",
       "    </tr>\n",
       "  </tbody>\n",
       "</table>\n",
       "</div>"
      ],
      "text/plain": [
       "               magazine  Percent_Fans\n",
       "0              TV_Guide          0.20\n",
       "1  Entertainment_Weekly          0.23\n",
       "2     Pop_Culture_Today          0.17\n",
       "3       SciPhi_Phanatic          0.05"
      ]
     },
     "execution_count": 43,
     "metadata": {},
     "output_type": "execute_result"
    }
   ],
   "source": [
    "df2 = pd.DataFrame()\n",
    "df2['magazine'] = ['TV_Guide', 'Entertainment_Weekly', 'Pop_Culture_Today', 'SciPhi_Phanatic']\n",
    "df2['Percent_Fans'] = [0.2, 0.23, 0.17, 0.05]\n",
    "df2"
   ]
  },
  {
   "cell_type": "code",
   "execution_count": 45,
   "metadata": {
    "collapsed": false
   },
   "outputs": [
    {
     "data": {
      "text/plain": [
       "0.16250000000000003"
      ]
     },
     "execution_count": 45,
     "metadata": {},
     "output_type": "execute_result"
    }
   ],
   "source": [
    "np.mean(df2.Percent_Fans)"
   ]
  },
  {
   "cell_type": "markdown",
   "metadata": {},
   "source": [
    "I would estimate that 16.25% of Americans were fans of the show on its 50th anniversary. But of course we would need to know the total number of readers for each magazine to actually estimate this as knowing the population size of each magazine will allow us to properly compare them."
   ]
  }
 ],
 "metadata": {
  "kernelspec": {
   "display_name": "Python 3",
   "language": "python",
   "name": "python3"
  },
  "language_info": {
   "codemirror_mode": {
    "name": "ipython",
    "version": 3
   },
   "file_extension": ".py",
   "mimetype": "text/x-python",
   "name": "python",
   "nbconvert_exporter": "python",
   "pygments_lexer": "ipython3",
   "version": "3.6.0"
  }
 },
 "nbformat": 4,
 "nbformat_minor": 2
}
